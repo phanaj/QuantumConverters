{
 "cells": [
  {
   "cell_type": "code",
   "execution_count": 1,
   "metadata": {
    "slideshow": {
     "slide_type": "skip"
    }
   },
   "outputs": [],
   "source": [
    "from splinter import Browser\n",
    "import requests\n",
    "import sys\n",
    "import time\n",
    "import getpass\n",
    "from collections import defaultdict"
   ]
  },
  {
   "cell_type": "code",
   "execution_count": 2,
   "metadata": {
    "slideshow": {
     "slide_type": "slide"
    }
   },
   "outputs": [],
   "source": [
    "class QuantumCircuit:\n",
    "\t\"\"\"\n",
    "\tThis is a class that interfaces with the Alibaba quantum computer.\n",
    "\n",
    "\tAttributes:\n",
    "\t\tcircuit_name (string) : The name you would like to call your circuit. Defaults to a random string. (TODO)\n",
    "\t\tcookies (dict) : A dictionary of cookies that you get from logging in to alibaba quantumcomputer.ac.cn.\n",
    "\t\"\"\"\n",
    "\tdef __init__(self, circuit_name, cookies):\n",
    "\t\tself.cookies = cookies\n",
    "\t\tself.circuit_name = circuit_name\n",
    "\n",
    "\t\tself.data = []\n",
    "\n",
    "\t\tself.circuit_id = None\n",
    "\n",
    "\t\tself.is_run = False\n",
    "\n",
    "\t\tself.results = {}\n",
    "\n",
    "\t\t# Tracks the furthest occupied x value in the rail\n",
    "\t\tself.rails = defaultdict(int)\n",
    "\n",
    "\tdef update_cookies(self, new_cookies):\n",
    "\t\t\"\"\"\n",
    "\t\tThe function to update cookies. Cookies must be updates every once in a while as they expire.\n",
    "\n",
    "\t\tParameters:\n",
    "\t\t\tnew_cookies (dict) : A dictionary of cookies that you get from logging in to alibaba quantumcomputer.ac.cn.\n",
    "\t\t\"\"\"\n",
    "\t\tself.cookies = new_cookies\n",
    "\n",
    "\tdef get_results(self):\n",
    "\t\t\"\"\"\n",
    "\t\tThe function that fills and returns in the results for the most recent run of this quantum circuit.\n",
    "\n",
    "\t\tReturns:\n",
    "\t\t\tIf successful, returns the results as a dict.\n",
    "\t\t\tIf unsuccessful, returns None.\n",
    "\t\t\"\"\"\n",
    "\t\turl = 'http://quantumcomputer.ac.cn/experiment/resultlist'\n",
    "\t\tdata = {\n",
    "\t\t\t\"experimentId\": self.circuit_id,\n",
    "\t\t\t\"version\":'',\n",
    "\t\t\t\"_input_charset\": \"utf-8\"\n",
    "\t\t}\n",
    "\n",
    "\t\tget_exp = requests.get(url, params=data, cookies=self.cookies)\n",
    "\n",
    "\t\tres = get_exp.json()\n",
    "\n",
    "\t\tif \"success\" in res and res[\"success\"] == True:\n",
    "\t\t\tself.results = res\n",
    "\t\t\t# print(get_exp.text)\n",
    "\t\t\treturn self.results\n",
    "\t\treturn None\n",
    "\n",
    "\tdef get_csrf(self, url):\n",
    "\t\t\"\"\"\n",
    "\t\tHelps us sidestep security precautions to avoid cross-site request forgery (csrf).\n",
    "\t\t\"\"\"\n",
    "\t\turl = url\n",
    "\n",
    "\t\tr = requests.get(url, cookies=self.cookies)\n",
    "\t\ttemp = r.text\n",
    "\t\tcsrf = temp.split(\"var csrf = \\'\")[1].split(\"\\'\")[0]\n",
    "\n",
    "\t\treturn csrf\n",
    "\n",
    "\tdef new_circuit(self, realOrSim=\"SIMULATE\", bitWidth=10):\n",
    "\t\t\"\"\"\n",
    "\t\tThe function to deploy this circuit as a new circuit on the quantum computer.\n",
    "\n",
    "\t\tParameters:\n",
    "\t\t\trealOrSim (boolean?) : If you want to run it on a simulation, then keep it as \"SIMULATE\".\n",
    "\t\t\tself.bitWidth (int) : An integer in the range [10, 25] for \"SIMULATE\" and [11, 11] for a real\n",
    "\t\t\t\tquantum computer that determines the number of qubits you are allocated.\n",
    "\n",
    "\t\tReturns:\n",
    "\t\t\tTrue if the new circuit was added and False if not.\n",
    "\t\t\tModifies self.circuit_id if successful so that we can edit and run this circuit by referring to\n",
    "\t\t\t\tit through circuit_id.\n",
    "\t\t\"\"\"\n",
    "\t\turl = 'http://quantumcomputer.ac.cn/experiment/infosave?_input_charset=utf-8'\n",
    "\n",
    "\t\tdata = {\n",
    "\t\t\t'name': self.circuit_name,\n",
    "\t\t\t'type': realOrSim,\n",
    "\t\t\t'bitWidth': bitWidth\n",
    "\t\t}\n",
    "\n",
    "\t\tcsrf = self.get_csrf('http://quantumcomputer.ac.cn/list.html')\n",
    "\t\theaders = {\n",
    "\t\t\t'X-CSRF-TOKEN': csrf,\n",
    "\t\t\t\"Referer\": \"http://quantumcomputer.ac.cn/list.html\",\n",
    "\t\t\t\"Host\": \"quantumcomputer.ac.cn\",\n",
    "\t\t\t\"Origin\": \"http://quantumcomputer.ac.cn\",\n",
    "\t\t\t\"Content-Type\": \"application/json\"\n",
    "\t\t}\n",
    "\n",
    "\t\tmake_new_circuit = requests.post(url, headers=headers, json=data, cookies=self.cookies)\n",
    "\n",
    "\t\tnew_circuit_json = make_new_circuit.json()\n",
    "\t\tif \"success\" in new_circuit_json and new_circuit_json[\"success\"] == True:\n",
    "\t\t\tself.circuit_id = str(new_circuit_json[\"data\"])\n",
    "\t\t\treturn True\n",
    "\t\treturn False\n",
    "\n",
    "\tdef add_gate_single(self, text, x, y, gateDetail={}):\n",
    "\t\t\"\"\"\n",
    "\t\tAdds a custom single qubit gate. Used as a helper function, not directly used by the user.\n",
    "\n",
    "\t\tParameters:\n",
    "\t\t\ttext: The identity of the gate, for example 'H', 'X', 'Y', etc.\n",
    "\t\t\tx: The x value of the gate. Gates are run from lowest x value to highest on the same rail.\n",
    "\t\t\ty: The value of the rail.\n",
    "\t\t\tgateDetail: {}\n",
    "\n",
    "\t\tReturns:\n",
    "\t\t\tModifies self.data if successful. Later self.data is submitted to the server.\n",
    "\t\t\"\"\"\n",
    "\t\tedit = {\n",
    "\t\t\t\"text\":text,\n",
    "\t\t\t\"gateDetail\":gateDetail,\n",
    "\t\t\t\"x\":x,\n",
    "\t\t\t\"y\":y\n",
    "\t\t}\n",
    "\n",
    "\t\tself.data.append(edit)\n",
    "\n",
    "\tdef add_gate_double(self, text, x, y, y1, gateDetail={}):\n",
    "\t\t\"\"\"\n",
    "\t\tSee add_gate_single. Text must be 'CP' for the simulator.\n",
    "\t\t\"\"\"\n",
    "\t\tedit = {\n",
    "\t\t\t\"text\":text,\n",
    "\t\t\t\"gateDetail\":gateDetail,\n",
    "\t\t\t\"x\":x,\n",
    "\t\t\t\"y\":y,\n",
    "\t\t\t\"x1\":x,\n",
    "\t\t\t\"y1\":y1\n",
    "\t\t}\n",
    "\n",
    "\t\tself.data.append(edit)\n",
    "\n",
    "\tdef add_gate_triple(self, text, x, y, y1, y2, gateDetail={}):\n",
    "\t\t\"\"\"\n",
    "\t\tSee add_gate_single. Text must be 'CCP' for the simulator.\n",
    "\t\t\"\"\"\n",
    "\t\tedit = {\n",
    "\t\t\t\"text\":text,\n",
    "\t\t\t\"gateDetail\":gateDetail,\n",
    "\t\t\t\"x\":x,\n",
    "\t\t\t\"y\":y,\n",
    "\t\t\t\"x1\":x,\n",
    "\t\t\t\"y1\":y1,\n",
    "\t\t\t\"x2\":x,\n",
    "\t\t\t\"y2\":y2\n",
    "\t\t}\n",
    "\n",
    "\t\tself.data.append(edit)\n",
    "\n",
    "\tdef add_H(self, target):\n",
    "\t\t\"\"\"\n",
    "\t\tAdds a hadamard gate to the target rail.\n",
    "\n",
    "\t\tParameters:\n",
    "\t\t\ttarget: The index of the rail that will recieve the gate.\n",
    "\t\t\"\"\"\n",
    "\t\tlast_filled_spot = self.rails[target]\n",
    "\t\tself.add_gate_single(\"H\", last_filled_spot + 1, target)\n",
    "\t\tself.rails[target] = last_filled_spot + 1\n",
    "\n",
    "\tdef add_X(self, target):\n",
    "\t\t\"\"\"\n",
    "\t\tAdds a Pauli-X gate to the target rail.\n",
    "\n",
    "\t\tParameters:\n",
    "\t\t\ttarget: The index of the rail that will recieve the gate.\n",
    "\t\t\"\"\"\n",
    "\t\tlast_filled_spot = self.rails[target]\n",
    "\t\tself.add_gate_single(\"X\", last_filled_spot + 1, target)\n",
    "\t\tself.rails[target] = last_filled_spot + 1\n",
    "\n",
    "\tdef add_Y(self, target):\n",
    "\t\t\"\"\"\n",
    "\t\tAdds a Pauli-Y gate to the target rail.\n",
    "\n",
    "\t\tParameters:\n",
    "\t\t\ttarget: The index of the rail that will recieve the gate.\n",
    "\t\t\"\"\"\n",
    "\t\tlast_filled_spot = self.rails[target]\n",
    "\t\tself.add_gate_single(\"Y\", last_filled_spot + 1, target)\n",
    "\t\tself.rails[target] = last_filled_spot + 1\n",
    "\n",
    "\tdef add_Z(self, target):\n",
    "\t\t\"\"\"\n",
    "\t\tAdds a Pauli-Z gate to the target rail.\n",
    "\n",
    "\t\tParameters:\n",
    "\t\t\ttarget: The index of the rail that will recieve the gate.\n",
    "\t\t\"\"\"\n",
    "\t\tlast_filled_spot = self.rails[target]\n",
    "\t\tself.add_gate_single(\"Y\", last_filled_spot + 1, target)\n",
    "\t\tself.rails[target] = last_filled_spot + 1\n",
    "\n",
    "\tdef add_M(self, target):\n",
    "\t\t\"\"\"\n",
    "\t\tAdds a Measurement gate to the target rail.\n",
    "\n",
    "\t\tParameters:\n",
    "\t\t\ttarget: The index of the rail that will recieve the gate.\n",
    "\t\t\"\"\"\n",
    "\t\tlast_filled_spot = self.rails[target]\n",
    "\t\tself.add_gate_single(\"M\", last_filled_spot + 1, target)\n",
    "\t\tself.rails[target] = last_filled_spot + 1\n",
    "\n",
    "\tdef add_CNOT(self, control, target):\n",
    "\t\t\"\"\"\n",
    "\t\tAdds a controlled-not gate with the control on the control rail and the target on the target rail.\n",
    "\n",
    "\t\tParameters:\n",
    "\t\t\tcontrol: The index of the control rail.\n",
    "\t\t\ttarget: The index of the target rail.\n",
    "\t\t\"\"\"\n",
    "\t\tself.add_H(target)\n",
    "\t\tself.add_X(control)\n",
    "\n",
    "\t\tlast_filled_spot = max(self.rails[control], self.rails[target]) \n",
    "\n",
    "\t\tself.add_gate_double(\"CP\", last_filled_spot + 1, control, target)\n",
    "\n",
    "\t\tself.rails[control] = last_filled_spot + 1\n",
    "\t\tself.rails[target] = last_filled_spot + 1\n",
    "\n",
    "\t\tself.add_H(target)\n",
    "\t\tself.add_X(control)\n",
    "        \n",
    "\tdef add_CCNOT(self, control1, control2, target):\n",
    "\t\t\"\"\"\n",
    "\t\tAdds a controlled-controlled-not gate.\n",
    "\n",
    "\t\tParameters:\n",
    "\t\t\tcontrol1: The index of the first control rail.\n",
    "\t\t\tcontrol2: The index of the second control rail.\n",
    "\t\t\ttarget: The index of the target rail.\n",
    "\t\t\"\"\"\n",
    "\t\tself.add_H(target)\n",
    "\t\tself.add_X(control1)\n",
    "\t\tself.add_X(control2)\n",
    "\n",
    "\t\tlast_filled_spot = max(self.rails[control1], self.rails[control2], self.rails[target])\n",
    "\n",
    "\t\tself.add_gate_triple(\"CCP\", last_filled_spot + 1, control1, control2, target)\n",
    "\n",
    "\t\tself.rails[control1] = last_filled_spot + 1\n",
    "\t\tself.rails[control2] = last_filled_spot + 1\n",
    "\t\tself.rails[target] = last_filled_spot + 1\n",
    "\n",
    "\t\tself.add_H(target)\n",
    "\t\tself.add_X(control1)\n",
    "\t\tself.add_X(control2)\n",
    "\n",
    "\tdef add_RZ(self, target, angle):\n",
    "\t\t\"\"\"\n",
    "\t\tAdds an RZ gate to the target rail.\n",
    "\n",
    "\t\tParameters:\n",
    "\t\t\ttarget: The index of the rail that will recieve the gate.\n",
    "\t\t\tangle: The angle (degrees) of the rotation. Float or int.\n",
    "\t\t\"\"\"\n",
    "\t\ttext = \"RZ_\" + str(angle)\n",
    "\n",
    "\t\tlast_filled_spot = self.rails[target]\n",
    "\t\tself.add_gate_single(text, last_filled_spot + 1, target)\n",
    "\t\tself.rails[target] = last_filled_spot + 1\n",
    "\n",
    "\tdef add_RX(self, target, angle):\n",
    "\t\t\"\"\"\n",
    "\t\tAdds an RX gate to the target rail.\n",
    "\n",
    "\t\tParameters:\n",
    "\t\t\ttarget: The index of the rail that will recieve the gate.\n",
    "\t\t\tangle: The angle (degrees) of the rotation. Float or int.\n",
    "\t\t\"\"\"\n",
    "\t\ttext = \"RX_\" + str(angle)\n",
    "\n",
    "\t\tlast_filled_spot = self.rails[target]\n",
    "\t\tself.add_gate_single(text, last_filled_spot + 1, target)\n",
    "\t\tself.rails[target] = last_filled_spot + 1\n",
    "\n",
    "\tdef push_edits(self):\n",
    "\t\t\"\"\"\n",
    "\t\tPushes edits to the alibaba quantum computer.\n",
    "\n",
    "\t\tReturns:\n",
    "\t\t\tTrue if edits were pushed successfully. False if otherwise.\n",
    "\t\t\"\"\"\n",
    "\t\turl = 'http://quantumcomputer.ac.cn/experiment/codesave?_input_charset=utf-8'\n",
    "\n",
    "\t\tdata_json = {}\n",
    "\n",
    "\t\tdata_json['experimentId'] = self.circuit_id\n",
    "\t\tdata_json['data'] = self.data\n",
    "\t\tdata_json['code'] = \"\"\n",
    "\n",
    "\t\tcsrf_url = 'http://quantumcomputer.ac.cn/home.html?id=' + str(self.circuit_id)\n",
    "\t\tcsrf = self.get_csrf(url=csrf_url)\n",
    "\t\theaders = {\n",
    "\t\t\t'X-CSRF-TOKEN': csrf\n",
    "\t\t}\n",
    "\n",
    "\t\tedit_circuit = requests.post(url, headers=headers, json=data_json, cookies=self.cookies)\n",
    "\n",
    "\t\treturn edit_circuit.json()[\"success\"]\n",
    "\n",
    "\tdef run_circuit(self, shots=100, seed=420, Type=\"SIMULATE\"):\n",
    "\t\t\"\"\"\n",
    "\t\tTells the alibaba server to run the circuit. Circuit output data must be later retrieved.\n",
    "\n",
    "\t\tReturns:\n",
    "\t\t\tTrue if the circuit was successfully run. False if otherwise.\n",
    "\t\t\"\"\"\n",
    "\t\turl = 'http://quantumcomputer.ac.cn/experiment/submit'\n",
    "\t\tdata = {\n",
    "\t\t\t\"experimentId\": self.circuit_id,\n",
    "\t\t\t\"type\": Type,\n",
    "\t\t\t\"bitWidth\": \"\",\n",
    "\t\t\t\"shots\": shots,\n",
    "\t\t\t\"seed\": seed,\n",
    "\t\t\t\"_input_charset\": \"utf-8\"\n",
    "\t\t}\n",
    "\n",
    "\t\tcsrf_url = 'http://quantumcomputer.ac.cn/home.html?id=' + str(self.circuit_id)\n",
    "\t\tcsrf = self.get_csrf(url=csrf_url)\n",
    "\t\theaders = {\n",
    "\t\t\t'X-CSRF-TOKEN': csrf\n",
    "\t\t}\n",
    "\n",
    "\t\trun_circuit = requests.post(url, headers=headers, data=data, cookies=self.cookies)\n",
    "\n",
    "\t\tif \"success\" in run_circuit.json():\n",
    "\t\t\tself.is_run = True\n",
    "\t\t\treturn run_circuit.json()[\"success\"]\n",
    "        \n",
    "\tdef run_circuit_get_results(self, shots=100, seed=420, Type='SIMULATE'):\n",
    "\t\t\"\"\"\n",
    "\t\tPushes edits to the server, then runs the circuit, and finally retrieves results.\n",
    "\n",
    "\t\tReturns:\n",
    "\t\t\tA dictionary of results if successful. None if not successful.\n",
    "\t\t\"\"\"\n",
    "\t\t# Pushing the edits to the server\n",
    "\t\tif not self.push_edits():\n",
    "\t\t\treturn None\n",
    "\n",
    "\t\t# Telling the server to run the circuit\n",
    "\t\tif not self.run_circuit(shots=shots, seed=seed, Type='SIMULATE'):\n",
    "\t\t\treturn None\n",
    "\n",
    "\t\ttime.sleep(3)\n",
    "\n",
    "\t\t# Pulling the results from the circuit.\n",
    "\t\tresults = self.get_results()\n",
    "\t\treturn results"
   ]
  },
  {
   "cell_type": "markdown",
   "metadata": {
    "slideshow": {
     "slide_type": "slide"
    }
   },
   "source": [
    "Run the code below to log in and generate new cookies."
   ]
  },
  {
   "cell_type": "code",
   "execution_count": 3,
   "metadata": {
    "slideshow": {
     "slide_type": "subslide"
    }
   },
   "outputs": [
    {
     "name": "stdout",
     "output_type": "stream",
     "text": [
      "Username: stevecarrell63\n",
      "Password: ········\n"
     ]
    }
   ],
   "source": [
    "username = str(input(\"Username: \"))\n",
    "print('Password: ', end='')\n",
    "password = getpass.getpass()\n",
    "\n",
    "url = 'http://quantumcomputer.ac.cn/login'\n",
    "\n",
    "browser = Browser('firefox')\n",
    "browser.visit(url)\n",
    "\n",
    "browser.find_by_xpath('//*[@id=\"username\"]').first.type(username)\n",
    "browser.find_by_xpath('//*[@id=\"password\"]').first.type(password)\n",
    "browser.find_by_xpath('//*[@id=\"qasm-wrapper\"]/div[3]/div[2]/div[2]/form/button').first.click()\n",
    "\n",
    "cookies = browser.cookies.all()\n",
    "\n",
    "time.sleep(3)\n",
    "\n",
    "browser.quit()\n"
   ]
  },
  {
   "cell_type": "markdown",
   "metadata": {
    "slideshow": {
     "slide_type": "slide"
    }
   },
   "source": [
    "Generate a Bell State:\n",
    "![hyperlink](https://i.ibb.co/jfDJ04Z/Capture2.png)"
   ]
  },
  {
   "cell_type": "code",
   "execution_count": 11,
   "metadata": {
    "slideshow": {
     "slide_type": "subslide"
    }
   },
   "outputs": [
    {
     "data": {
      "text/plain": [
       "{'startTime': '2019-05-08 05:26:58',\n",
       " 'finishTime': '2019-05-08 05:26:59',\n",
       " 'process': None,\n",
       " 'data': {'00': '0.50293', '11': '0.49707'},\n",
       " 'id': 11032,\n",
       " 'seed': 12345,\n",
       " 'shots': 1024,\n",
       " 'measureQubits': [1, 0]}"
      ]
     },
     "execution_count": 11,
     "metadata": {},
     "output_type": "execute_result"
    }
   ],
   "source": [
    "# Making a new quantum circuit\n",
    "qc = QuantumCircuit('Bell State', cookies)\n",
    "\n",
    "if qc.new_circuit():\n",
    "    qc.add_H(1)\n",
    "    qc.add_CNOT(1, 2)\n",
    "    qc.add_M(1)\n",
    "    qc.add_M(2)\n",
    "else:\n",
    "    print(\"Failed to make a circuit.\")\n",
    "    \n",
    "# Run the circuit.\n",
    "results = qc.run_circuit_get_results(shots=1024, seed=12345)\n",
    "results['data']['simulateResult'][0]"
   ]
  },
  {
   "cell_type": "markdown",
   "metadata": {
    "slideshow": {
     "slide_type": "slide"
    }
   },
   "source": [
    "Implementing a SWAP gate:\n",
    "![hyperlink](https://i.ibb.co/HDs96Kj/Capture1.png)"
   ]
  },
  {
   "cell_type": "code",
   "execution_count": 12,
   "metadata": {
    "slideshow": {
     "slide_type": "subslide"
    }
   },
   "outputs": [
    {
     "data": {
      "text/plain": [
       "{'startTime': '2019-05-07 04:59:32',\n",
       " 'finishTime': '2019-05-07 04:59:33',\n",
       " 'process': None,\n",
       " 'data': {'10': '1.0'},\n",
       " 'id': 10987,\n",
       " 'seed': 12345,\n",
       " 'shots': 1024,\n",
       " 'measureQubits': [1, 0]}"
      ]
     },
     "execution_count": 12,
     "metadata": {},
     "output_type": "execute_result"
    }
   ],
   "source": [
    "class QuantumCircuitWithSwap(QuantumCircuit):\n",
    "    def add_swap(self, qubit1, qubit2):\n",
    "        self.add_CNOT(qubit1, qubit2)\n",
    "        self.add_CNOT(qubit2, qubit1)\n",
    "        self.add_CNOT(qubit1, qubit2)\n",
    "\n",
    "qc_swap = QuantumCircuitWithSwap('Using SWAP', cookies)\n",
    "\n",
    "if qc_swap.new_circuit():\n",
    "    qc_swap.add_X(1)\n",
    "    qc_swap.add_swap(1, 2)\n",
    "    qc_swap.add_M(1)\n",
    "    qc_swap.add_M(2)\n",
    "    \n",
    "# Run the circuit.\n",
    "results = qc_swap.run_circuit_get_results(shots=1024, seed=12345)\n",
    "results['data']['simulateResult'][0]"
   ]
  },
  {
   "cell_type": "markdown",
   "metadata": {
    "slideshow": {
     "slide_type": "slide"
    }
   },
   "source": [
    "Manually implementing $S$, $T$, $T^{\\dagger}$, and $\\text{Toffoli}$ using RZ:"
   ]
  },
  {
   "cell_type": "code",
   "execution_count": 4,
   "metadata": {
    "slideshow": {
     "slide_type": "subslide"
    }
   },
   "outputs": [],
   "source": [
    "class QuantumCircuitToffoli(QuantumCircuit):\n",
    "    def add_T(self, target):\n",
    "        self.add_RZ(target, 45)\n",
    "        \n",
    "    def add_T_dag(self, target):\n",
    "        self.add_RZ(target, 315)\n",
    "\n",
    "    def add_S(self, target):\n",
    "        self.add_RZ(target, 90)\n",
    "        \n",
    "    def add_TOFF(self, control1, control2, target):\n",
    "        self.add_H(target)\n",
    "        self.add_CNOT(control2, target)\n",
    "        self.add_T_dag(target)\n",
    "        self.add_CNOT(control1, target)\n",
    "        self.add_T(target)\n",
    "        self.add_CNOT(control2, target)\n",
    "        self.add_T_dag(target)\n",
    "        self.add_CNOT(control1, target)\n",
    "        self.add_T_dag(control2)\n",
    "        self.add_T(target)\n",
    "        self.add_H(target)\n",
    "        self.add_CNOT(control1, control2)\n",
    "        self.add_T_dag(control2)\n",
    "        self.add_CNOT(control1, control2)\n",
    "        self.add_T(control1)\n",
    "        self.add_S(control2)"
   ]
  },
  {
   "cell_type": "markdown",
   "metadata": {
    "slideshow": {
     "slide_type": "slide"
    }
   },
   "source": [
    "Using the $\\text{Toffoli}$:\n",
    "![hyperlink](https://i.ibb.co/NVFGSFW/Capture.png)"
   ]
  },
  {
   "cell_type": "code",
   "execution_count": 14,
   "metadata": {
    "slideshow": {
     "slide_type": "subslide"
    }
   },
   "outputs": [
    {
     "data": {
      "text/plain": [
       "{'startTime': '2019-05-07 05:00:03',\n",
       " 'finishTime': '2019-05-07 05:00:04',\n",
       " 'process': None,\n",
       " 'data': {'111': '1.0'},\n",
       " 'id': 10988,\n",
       " 'seed': 12345,\n",
       " 'shots': 1024,\n",
       " 'measureQubits': [2, 1, 0]}"
      ]
     },
     "execution_count": 14,
     "metadata": {},
     "output_type": "execute_result"
    }
   ],
   "source": [
    "qc_toff = QuantumCircuitToffoli('Toffoli', cookies)\n",
    "\n",
    "if qc_toff.new_circuit():\n",
    "    qc_toff.add_X(1)\n",
    "    qc_toff.add_X(2)\n",
    "    qc_toff.add_TOFF(1, 2, 3)\n",
    "    qc_toff.add_M(1)\n",
    "    qc_toff.add_M(2)\n",
    "    qc_toff.add_M(3)\n",
    "    \n",
    "# Run the circuit.\n",
    "results = qc_toff.run_circuit_get_results(shots=1024, seed=12345)\n",
    "results['data']['simulateResult'][0]"
   ]
  },
  {
   "cell_type": "markdown",
   "metadata": {
    "slideshow": {
     "slide_type": "subslide"
    }
   },
   "source": [
    "Here is what part of this Toffoli gate decomposition looks like on the CAS-Alibaba Quantum Computer GUI:\n",
    "![hyperlink](https://i.ibb.co/hsL6Thv/Capture3.png)"
   ]
  },
  {
   "cell_type": "markdown",
   "metadata": {
    "slideshow": {
     "slide_type": "slide"
    }
   },
   "source": [
    "Compare this to our built-in CCNOT gate:"
   ]
  },
  {
   "cell_type": "code",
   "execution_count": 15,
   "metadata": {
    "scrolled": true,
    "slideshow": {
     "slide_type": "subslide"
    }
   },
   "outputs": [
    {
     "data": {
      "text/plain": [
       "{'startTime': '2019-05-07 05:00:22',\n",
       " 'finishTime': '2019-05-07 05:00:22',\n",
       " 'process': None,\n",
       " 'data': {'111': '1.0'},\n",
       " 'id': 10989,\n",
       " 'seed': 12345,\n",
       " 'shots': 1024,\n",
       " 'measureQubits': [2, 1, 0]}"
      ]
     },
     "execution_count": 15,
     "metadata": {},
     "output_type": "execute_result"
    }
   ],
   "source": [
    "qc = QuantumCircuit('CCNOT', cookies)\n",
    "\n",
    "if qc.new_circuit():\n",
    "    qc.add_X(1)\n",
    "    qc.add_X(2)\n",
    "    qc.add_CCNOT(1, 2, 3)\n",
    "    qc.add_M(1)\n",
    "    qc.add_M(2)\n",
    "    qc.add_M(3)\n",
    "else:\n",
    "    print(\"Failed to make a circuit.\")\n",
    "    \n",
    "# Run the circuit.\n",
    "results = qc.run_circuit_get_results(shots=1024, seed=12345)\n",
    "results['data']['simulateResult'][0]"
   ]
  },
  {
   "cell_type": "markdown",
   "metadata": {
    "slideshow": {
     "slide_type": "slide"
    }
   },
   "source": [
    "Let's compare this simulator with the QISKIT simulator we used in lab."
   ]
  },
  {
   "cell_type": "code",
   "execution_count": 5,
   "metadata": {
    "slideshow": {
     "slide_type": "subslide"
    }
   },
   "outputs": [],
   "source": [
    "# Let's import the qiskit simulator and compare.\n",
    "from qiskit import (\n",
    "    QuantumCircuit, QuantumRegister, ClassicalRegister, Aer,\n",
    "    execute\n",
    ")\n",
    "from qiskit.tools.visualization import plot_histogram\n",
    "\n",
    "assert sys.version_info >= (3,5), \"Only Python 3.5 or greater supported.\"\n",
    "\n",
    "# import state tomography functions\n",
    "from qiskit.tools.visualization import plot_histogram, plot_state\n",
    "\n",
    "import numpy as np\n",
    "import matplotlib.pyplot as plt\n",
    "from IPython.display import Image"
   ]
  },
  {
   "cell_type": "markdown",
   "metadata": {
    "slideshow": {
     "slide_type": "slide"
    }
   },
   "source": [
    "![hyperlink](https://i.ibb.co/1ngLJ8T/Capture.png)"
   ]
  },
  {
   "cell_type": "code",
   "execution_count": 30,
   "metadata": {
    "slideshow": {
     "slide_type": "subslide"
    }
   },
   "outputs": [],
   "source": [
    "# Code from QISKIT\n",
    "# initalize registers\n",
    "q, c = QuantumRegister(1), ClassicalRegister(1)\n",
    "\n",
    "# initialize circuit\n",
    "qc = QuantumCircuit(q, c)\n",
    "\n",
    "# Add gate sequences\n",
    "qc.h(q[0])\n",
    "qc.s(q[0])\n",
    "qc.t(q[0])\n",
    "qc.h(q[0])\n",
    "qc.measure(q[0], c[0])\n",
    "\n",
    "# Run the circuit\n",
    "backend_sim = Aer.get_backend('qasm_simulator')\n",
    "results = execute(qc, backend_sim).result()\n",
    "res = results.get_counts(qc)\n",
    "total = res['0'] + res['1']\n",
    "res['0'] = res['0'] / total\n",
    "res['1'] = res['1'] / total\n",
    "# res"
   ]
  },
  {
   "cell_type": "code",
   "execution_count": 25,
   "metadata": {
    "slideshow": {
     "slide_type": "subslide"
    }
   },
   "outputs": [],
   "source": [
    "# Code using our python interface\n",
    "# initialize circuit\n",
    "qc = QuantumCircuitToffoli('Single Qubit', cookies)\n",
    "qc.new_circuit()\n",
    "\n",
    "# Add gate sequences\n",
    "qc.add_H(1)\n",
    "qc.add_S(1)\n",
    "qc.add_T(1)\n",
    "qc.add_H(1)\n",
    "qc.add_M(1)\n",
    "    \n",
    "# Run the circuit.\n",
    "results = qc.run_circuit_get_results(shots=1024, seed=12345)\n",
    "# results['data']['simulateResult'][0]['data']"
   ]
  },
  {
   "cell_type": "markdown",
   "metadata": {
    "slideshow": {
     "slide_type": "slide"
    }
   },
   "source": [
    "![hyperlink](https://www.dropbox.com/s/iq9dmai17kyow5x/Screenshot%202018-03-21%2009.44.58.png?raw=1)"
   ]
  },
  {
   "cell_type": "code",
   "execution_count": 24,
   "metadata": {
    "slideshow": {
     "slide_type": "subslide"
    }
   },
   "outputs": [],
   "source": [
    "# initalize registers\n",
    "q, c = QuantumRegister(2), ClassicalRegister(2)\n",
    "\n",
    "# initialize circuit\n",
    "qc = QuantumCircuit(q, c)\n",
    "\n",
    "# Add gate sequences\n",
    "qc.x(q[0])\n",
    "qc.cx(q[0], q[1])\n",
    "qc.measure(q[0], c[0])\n",
    "qc.measure(q[1], c[1])\n",
    "\n",
    "# run circuit\n",
    "backend_sim = Aer.get_backend('qasm_simulator')\n",
    "results = execute(qc, backend_sim).result()\n",
    "res = results.get_counts(qc)\n",
    "total = res['11']\n",
    "res['11'] = res['11'] / total\n",
    "# res"
   ]
  },
  {
   "cell_type": "code",
   "execution_count": 10,
   "metadata": {
    "slideshow": {
     "slide_type": "subslide"
    }
   },
   "outputs": [],
   "source": [
    "# Code using our python interface\n",
    "# initialize circuit\n",
    "qc = QuantumCircuitToffoli('Two Qubit', cookies)\n",
    "qc.new_circuit()\n",
    "\n",
    "# Add gate sequences\n",
    "qc.add_X(1)\n",
    "qc.add_CNOT(1, 2)\n",
    "qc.add_M(1)\n",
    "qc.add_M(2)\n",
    "    \n",
    "# Run the circuit.\n",
    "results = qc.run_circuit_get_results(shots=1024, seed=12345)\n",
    "# results['data']['simulateResult'][0]['data']"
   ]
  }
 ],
 "metadata": {
  "celltoolbar": "Slideshow",
  "kernelspec": {
   "display_name": "Python 3",
   "language": "python",
   "name": "python3"
  },
  "language_info": {
   "codemirror_mode": {
    "name": "ipython",
    "version": 3
   },
   "file_extension": ".py",
   "mimetype": "text/x-python",
   "name": "python",
   "nbconvert_exporter": "python",
   "pygments_lexer": "ipython3",
   "version": "3.6.4"
  }
 },
 "nbformat": 4,
 "nbformat_minor": 2
}
